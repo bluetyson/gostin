{
 "cells": [
  {
   "cell_type": "markdown",
   "metadata": {},
   "source": [
    "## Connection Workflow"
   ]
  },
  {
   "cell_type": "code",
   "execution_count": 6,
   "metadata": {},
   "outputs": [],
   "source": [
    "#packages\n",
    "import os\n",
    "import numpy as np\n",
    "import pandas as pd\n",
    "import geopandas as gpd\n",
    "import rasterio\n",
    "\n",
    "import pyrolite\n",
    "import pysptools\n",
    "import spectral\n",
    "\n",
    "import matplotlib.pyplot as plt #plotting tool\n",
    "from matplotlib.patches import RegularPolygon #drawing hexagons\n",
    "import shapely #to attribute geometric properties for shapes\n",
    "from shapely.geometry import Polygon, Point\n",
    "\n",
    "from tqdm import tqdm_notebook as tqdm\n",
    "from datetime import datetime\n",
    "import json\n",
    "from affine import Affine\n",
    "from scipy.ndimage import gaussian_filter\n",
    "from PIL import Image\n",
    "import rasterio.features as rf\n",
    "\n"
   ]
  },
  {
   "cell_type": "code",
   "execution_count": null,
   "metadata": {},
   "outputs": [],
   "source": [
    "- Take a spectral datacube - raster in M * N * Bands, not Bands * M * N - that USGS library can handlel [Landsat, ASTER, Sentinel etc]\n",
    "- Unmix via pysptools\n",
    "- Get endmembers\n",
    "- Generate Abundance Maps [possible tensorflow workflow to do neural network version]\n",
    "- Download USGS spectral Library\n",
    "- ECOSTRESS Spectral library from spectral\n",
    "- Get Endmember info from pyrolite\n",
    "- Possible generate classification\n",
    "- Or combine similar (by correlation or name)? abundance mpas\n",
    "- Polygonize to make geological ap\n",
    "- Feed through Loop3D to Gempy after setup - need structural data from web services - GA, CPRM etc\n",
    "\n"
   ]
  },
  {
   "cell_type": "markdown",
   "metadata": {},
   "source": []
  }
 ],
 "metadata": {
  "kernelspec": {
   "display_name": "Python [conda env:explore_australia2] *",
   "language": "python",
   "name": "conda-env-explore_australia2-py"
  },
  "language_info": {
   "codemirror_mode": {
    "name": "ipython",
    "version": 3
   },
   "file_extension": ".py",
   "mimetype": "text/x-python",
   "name": "python",
   "nbconvert_exporter": "python",
   "pygments_lexer": "ipython3",
   "version": "3.6.7"
  }
 },
 "nbformat": 4,
 "nbformat_minor": 2
}
